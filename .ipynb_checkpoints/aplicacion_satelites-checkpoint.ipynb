{
 "cells": [
  {
   "cell_type": "markdown",
   "id": "6e51f35d-6a18-49d3-b003-df9ef13fdebb",
   "metadata": {},
   "source": [
    "# Imports"
   ]
  },
  {
   "cell_type": "code",
   "execution_count": 1,
   "id": "3661ba7b-d76d-478d-b9e0-215416619304",
   "metadata": {},
   "outputs": [],
   "source": [
    "from utils import *\n",
    "SEED = 0"
   ]
  },
  {
   "cell_type": "markdown",
   "id": "86f30df4-1bd1-4c33-9be7-8a00cb4088d5",
   "metadata": {},
   "source": [
    "# Parámetros"
   ]
  },
  {
   "cell_type": "code",
   "execution_count": 2,
   "id": "1e2ae095-4c4f-4c47-9eef-a68735012ec7",
   "metadata": {},
   "outputs": [],
   "source": [
    "# FPCA\n",
    "N_BASIS = 15\n",
    "N_COMPONENTS = 3\n",
    "\n",
    "# WGAN\n",
    "N_EPOCHS = 2000\n",
    "N_CRITIC = 5\n",
    "LAMBDA_GP = 0.5\n",
    "BATCH_SIZE = 128\n",
    "LATENT_DIM = 1\n",
    "CONDITION_DIM = 1\n",
    "INPUT_DIM = 1\n",
    "G_HIDDEN_LAYERS = 4\n",
    "G_HIDDEN_DIM = 16\n",
    "G_LEAKY_RELU = 0.1\n",
    "D_HIDDEN_LAYERS = 2\n",
    "D_HIDDEN_DIM = 64\n",
    "D_DROPOUT = 0.4\n",
    "D_LEAKY_RELU = 0.1\n",
    "LR_GEN = 0.0002\n",
    "LR_DIS = 0.0002\n",
    "B1 = 0.5\n",
    "B2 = 0.999"
   ]
  },
  {
   "cell_type": "markdown",
   "id": "3a8e7f59-a6b9-40e8-9de9-f8064ff0370d",
   "metadata": {},
   "source": [
    "# Datos"
   ]
  },
  {
   "cell_type": "markdown",
   "id": "062916cc-040c-4556-a592-88e2be92957e",
   "metadata": {},
   "source": [
    "## Carga y Análisis"
   ]
  },
  {
   "cell_type": "code",
   "execution_count": null,
   "id": "62e88fe0-64c6-4766-881b-a7b2e974dbb3",
   "metadata": {},
   "outputs": [],
   "source": [
    "data = pd.read_excel( 'mltan_database_2022.xlsx' )\n",
    "\n",
    "data.rename(columns = {'norad':'NORAD'}, inplace=True)\n",
    "\n",
    "print(f'{(len(data))} observaciones')\n",
    "print(f'Primera observación: {data.epoch.min()}')\n",
    "print(f'Última observación: {data.epoch.max()}')"
   ]
  },
  {
   "cell_type": "code",
   "execution_count": null,
   "id": "8ddfe694-f562-4475-bf78-d6556cbaffb4",
   "metadata": {},
   "outputs": [],
   "source": [
    "# En primer lugar filtramos observaciones para las cuales no se tiene el dato de masa\n",
    "\n",
    "print('No contamos con la masa para un {:.2f}% de las observaciones'.format( np.mean(data.launch_mass.isna())*100 ))\n",
    "data = data[data.launch_mass.notna()].reset_index(drop=True)\n",
    "print(f'{len(data)} observaciones')"
   ]
  },
  {
   "cell_type": "code",
   "execution_count": null,
   "id": "a461bd4a-0884-4caa-8de6-e794063394af",
   "metadata": {},
   "outputs": [],
   "source": [
    "# Acotamos la muestra a un subgrupo de satélites\n",
    "# La principal distinción es por el tipo de órbita, siendo las principales LEO (órbita baja) y GEO (órbita geoestacionaria - muy alta)\n",
    "# LEO es la fracción más grande\n",
    "\n",
    "data.groupby('orbit_class')['cospar_norad'].count() / data.shape[0]"
   ]
  },
  {
   "cell_type": "code",
   "execution_count": null,
   "id": "2cc2e9cb-6754-4b6b-ae35-ce9672c179e9",
   "metadata": {},
   "outputs": [],
   "source": [
    "# Distintas masas se observan en los 4 tipos de órbitas. En general, en LEO se encuentran satélites por debajo de 1.000 kgs\n",
    "# GEO presenta una distribución totalmente distinta con muchos satélites pesando varias toneladas\n",
    "# Al ser la categoría con más observaciones, decidimos quedarnos sólo con los satélites de LEO\n",
    "\n",
    "plt.figure(dpi=100, figsize=(10,8))\n",
    "classes = pd.unique(data.orbit_class)\n",
    "\n",
    "for i, orbit_class in zip( range(len(classes)), classes ):\n",
    "\n",
    "  plt.subplot(2,2,i+1)\n",
    "  sns.histplot(data[data.orbit_class == orbit_class].launch_mass, kde=True, bins=30)\n",
    "  plt.xlabel('launch_mass [kgs]')\n",
    "  plt.title(orbit_class)\n",
    "\n",
    "plt.tight_layout()\n",
    "plt.show()"
   ]
  },
  {
   "cell_type": "code",
   "execution_count": null,
   "id": "956e8aa0-ad2b-413f-8b82-eb2ad75b82ec",
   "metadata": {},
   "outputs": [],
   "source": [
    "data = data[data.orbit_class == 'LEO'].reset_index(drop=True)"
   ]
  },
  {
   "cell_type": "code",
   "execution_count": null,
   "id": "8a9de7cc-086c-4858-b8a7-3319c7629044",
   "metadata": {},
   "outputs": [],
   "source": [
    "# Un único dato estaba clasificado como Earth Observation bajo la columna Users (mal clasificado)\n",
    "# Se trata del BRIK-II, lanzado por la fuerza aérea de los Países Bajos. Editamos este dato:\n",
    "\n",
    "data.loc[data.users == 'Earth Observation', 'users'] = 'Military'"
   ]
  },
  {
   "cell_type": "code",
   "execution_count": null,
   "id": "8b776881-a1d7-4cec-be65-870b3b17b573",
   "metadata": {},
   "outputs": [],
   "source": [
    "# Análisis según tipo de usuario\n",
    "\n",
    "data.groupby('users')['cospar_norad'].count()"
   ]
  },
  {
   "cell_type": "code",
   "execution_count": null,
   "id": "4daddd2c-59b4-4315-8ed4-b3830d4bb217",
   "metadata": {},
   "outputs": [],
   "source": [
    "plt.figure(dpi=100, figsize=(10,8))\n",
    "users = pd.unique(data.users)\n",
    "\n",
    "for i, user in zip( range(len(users)), users ):\n",
    "\n",
    "  plt.subplot(2,2,i+1)\n",
    "  sns.histplot( data[data.users == user].launch_mass, bins=30, kde=True )\n",
    "  plt.title(user)\n",
    "\n",
    "plt.tight_layout()\n",
    "plt.show()"
   ]
  },
  {
   "cell_type": "code",
   "execution_count": null,
   "id": "cb7aec44-3b9b-4dff-8a1f-082026cd7103",
   "metadata": {},
   "outputs": [],
   "source": [
    "# Si bien LEO se caracteriza por satélites pequeños, vemos algunos datos pesando varias toneladas\n",
    "# Viéndolos en detalle vemos que por encima de los 4.000 kgs, todos los satélites pertenecen a usuarios\n",
    "# militares o gubernamentales\n",
    "\n",
    "# optamos por descartar todas las observaciones por encima de los 4.000 kilos\n",
    "\n",
    "print('Un {:.3f}% de los satélites en LEO superan los 4.000 kilos'.format(np.mean(data.launch_mass >= 4000)))\n",
    "data.sort_values(by='launch_mass', ascending=False).head(40)"
   ]
  },
  {
   "cell_type": "code",
   "execution_count": null,
   "id": "5200781c-6433-4e0f-a659-8e89b82a0530",
   "metadata": {},
   "outputs": [],
   "source": [
    "data = data[data.launch_mass < 4000].reset_index(drop=True)"
   ]
  },
  {
   "cell_type": "markdown",
   "id": "038259bc-e687-4c01-b111-93d6c1d74b56",
   "metadata": {},
   "source": [
    "## Agrupación por año\n",
    "\n",
    "Habiéndonos quedado con los satélites lanzados a LEO por debajo de los 4.000 kilos, pasamos a agrupar por año"
   ]
  },
  {
   "cell_type": "code",
   "execution_count": null,
   "id": "5f99e0cb-b37a-409f-b9b8-cad2957b77a5",
   "metadata": {},
   "outputs": [],
   "source": [
    "data = data[['launch_mass', 'year']].sort_values(by='year').reset_index(drop=True) # Me quedo con masa y año de lanzamiento\n",
    "print(data.groupby('year').launch_mass.count())\n",
    "\n",
    "# Como buscamos ahora ajustar una distribución para cada año, descartamos los años con pocas observaciones\n",
    "# Arbitrariamente descartamos los años con menos de 10 lanzamientos\n",
    "# Notar que la caída entre 2021 y 2022 se debe a que todavía no terminó el año al momento de hacer este análisis\n",
    "\n",
    "data = data[data.year >= 1998].reset_index(drop=True)"
   ]
  },
  {
   "cell_type": "code",
   "execution_count": null,
   "id": "58ed7474-064d-4f24-9c3e-40a1ea62930d",
   "metadata": {},
   "outputs": [],
   "source": [
    "# Se observa una gran conentración de las masas en torno a los 200 kgs para los últimos años\n",
    "# A juzgar por los picos de las densidades, para los primeros años esta concentración no era tan alta, siendo más comunes satélites más pesados\n",
    "# Vale aclarar que la gran concentración de los últimos años se debe a la constelación Starlink de SpaceX\n",
    "# En una muestra de 5600 observaciones, casi la mitad pertenece a esta constelación formada por satélites idénticos de entre 230 y 260 kilos, lanzados entre 2019 y 2022\n",
    "\n",
    "data_plot = data.copy()\n",
    "\n",
    "bandwidths = 1.06 * data_plot.groupby('year').launch_mass.std() * ( data_plot.groupby('year').launch_mass.count() ** (-0.2) )\n",
    "\n",
    "kdes = dict()\n",
    "\n",
    "# Ajusto con KDE\n",
    "for t in data_plot.year.unique():\n",
    "  kde = KernelDensity(\n",
    "      kernel='gaussian',\n",
    "      bandwidth=bandwidths[t]).fit( data_plot.loc[data_plot.year==t, ['launch_mass']].values )\n",
    "  kdes[t] = kde\n",
    "\n",
    "kdes = get_kdes(data_plot, 'launch_mass', 'year', data_plot.year.unique())\n",
    "\n",
    "# Evalúo las log-densidades sobre una grilla\n",
    "grid_points = list(np.linspace(min(data_plot.launch_mass)-4, max(data_plot.launch_mass)+4, 1000))\n",
    "data_matrix = [[kdes[t].score( np.array([[point]]) ) for point in grid_points] for t in data_plot.year.unique()]\n",
    "\n",
    "plt.figure(dpi=100, figsize=(8,8))\n",
    "for i, d in zip(np.linspace(0.3,0.7, len(data_matrix)), data_matrix):\n",
    "  plt.plot(grid_points, np.exp(d), color=blue(i))\n",
    "\n",
    "plt.gca().set_ylim(bottom=0)\n",
    "plt.ylabel('Density')\n",
    "plt.xlabel('Kgs')\n",
    "plt.show()"
   ]
  },
  {
   "cell_type": "code",
   "execution_count": null,
   "id": "ef5dc39c-68b9-4c1d-a42e-f8dd211e8fff",
   "metadata": {},
   "outputs": [],
   "source": [
    "# COMENTARIO\n",
    "\n",
    "# Una boludez... calculo todo de nuevo solo para no graficar 2022\n",
    "\n",
    "# data_plot = data[data.year < 2020].copy()\n",
    "\n",
    "\n",
    "# bandwidths = 1.06 * data_plot.groupby('year').launch_mass.std() * ( data_plot.groupby('year').launch_mass.count() ** (-0.2) )\n",
    "\n",
    "# kdes = dict()\n",
    "\n",
    "# # Ajusto con KDE\n",
    "# for t in data_plot.year.unique():\n",
    "#   kde = KernelDensity(\n",
    "#       kernel='gaussian',\n",
    "#       bandwidth=bandwidths[t]).fit( data_plot.loc[data_plot.year==t, ['launch_mass']].values )\n",
    "#   kdes[t] = kde\n",
    "\n",
    "# # Evalúo las log-densidades sobre una grilla\n",
    "# grid_points = list(np.linspace(min(data_plot.launch_mass)-4, max(data_plot.launch_mass)+4, 1000))\n",
    "# data_matrix = [[kdes[t].score( np.array([[point]]) ) for point in grid_points] for t in data_plot.year.unique()]\n",
    "\n",
    "\n",
    "# plt.figure(dpi=100, figsize=(8,8))\n",
    "# for i, d in zip(np.linspace(0.3,0.7, len(data_matrix)), data_matrix):\n",
    "#   plt.plot(grid_points, np.exp(d), color=blue(i))\n",
    "\n",
    "# plt.gca().set_ylim(bottom=0)\n",
    "# plt.ylabel('Density')\n",
    "# plt.xlabel('Kgs')\n",
    "# plt.show()"
   ]
  },
  {
   "cell_type": "markdown",
   "id": "9f433d80-146f-4b25-be98-1b581b6499c4",
   "metadata": {},
   "source": [
    "# Proyecciones\r\n",
    "\r\n",
    "Ahora aplicamos los 3 métodos que desarrollamos para predecir la evolución de las densidades\r\n",
    "\r\n",
    "Ajustaremos los 3 modelos hasta el 2021, y compararemos las predicciones para 2022 con la distribución observada para dicho año a la fecha"
   ]
  },
  {
   "cell_type": "code",
   "execution_count": null,
   "id": "b49ea892-e4f4-48cc-aad9-2aeb8051bd9a",
   "metadata": {},
   "outputs": [],
   "source": [
    "data = data.rename(columns={'year':'time'})\n",
    "vars = ['launch_mass']\n",
    "X_train = data[data.time < 2022].reset_index(drop=True)\n",
    "X_test = data[data.time == 2022].reset_index(drop=True)\n",
    "H_STEPS = 1\n",
    "time_periods = pd.unique(X_train.time)\n",
    "forecast_periods = np.arange(time_periods[-1]+1, time_periods[-1]+1+H_STEPS)\n",
    "\n",
    "# bandwidths para la estimación con KDE\n",
    "bandwidths = 1.06 * data.groupby('time').launch_mass.std() * ( data.groupby('time').launch_mass.count() ** (-0.2) )\n",
    "\n",
    "kdes = get_kdes(data, 'launch_mass', 'time', pd.unique(data.time))\n",
    "    \n",
    "# Evalúo las log-densidades sobre una grilla\n",
    "grid_points = np.linspace(min(data.launch_mass)-4, max(data.launch_mass)+4, 1000)\n",
    "data_matrix = [kdes[t].score_samples(grid_points.reshape(-1,1)) for t in time_periods]"
   ]
  },
  {
   "cell_type": "code",
   "execution_count": null,
   "id": "9ed953c1-2a56-4b20-bcee-3555a9604093",
   "metadata": {},
   "outputs": [],
   "source": [
    "plt.figure(dpi=100, figsize=(10,8))\n",
    "\n",
    "ax1 = plt.subplot(2,2,1)\n",
    "ax2 = ax1.twinx()\n",
    "ax1.plot(grid_points, np.exp(data_matrix[0]), 'darkorange')\n",
    "ax2.hist(data[data.time==time_periods[0]].launch_mass, bins=30, alpha=0.8)\n",
    "plt.xlabel('launch_mass [kgs]')\n",
    "plt.title(time_periods[0])\n",
    "\n",
    "ax1 = plt.subplot(2,2,2)\n",
    "ax2 = ax1.twinx()\n",
    "ax1.plot(grid_points, np.exp(data_matrix[5]), 'darkorange')\n",
    "ax2.hist(data[data.time==time_periods[5]].launch_mass, bins=30, alpha=0.8)\n",
    "plt.xlabel('launch_mass [kgs]')\n",
    "plt.title(time_periods[5])\n",
    "\n",
    "ax1 = plt.subplot(2,2,3)\n",
    "ax2 = ax1.twinx()\n",
    "ax1.plot(grid_points, np.exp(data_matrix[15]), 'darkorange')\n",
    "ax2.hist(data[data.time==time_periods[15]].launch_mass, bins=30, alpha=0.8)\n",
    "plt.xlabel('launch_mass [kgs]')\n",
    "plt.title(time_periods[15])\n",
    "\n",
    "ax1 = plt.subplot(2,2,4)\n",
    "ax2 = ax1.twinx()\n",
    "ax1.plot(grid_points, np.exp(data_matrix[-1]), 'darkorange')\n",
    "ax2.hist(data[data.time==time_periods[-1]].launch_mass, bins=30, alpha=0.8)\n",
    "plt.xlabel('launch_mass [kgs]')\n",
    "plt.title(time_periods[-1])\n",
    "\n",
    "plt.tight_layout()\n",
    "\n",
    "plt.show()"
   ]
  },
  {
   "cell_type": "markdown",
   "id": "7b75bf54-65fb-4163-a38a-69c37cdde120",
   "metadata": {},
   "source": [
    "## Paramétrico\n",
    "\n",
    "Ajustamos mixturas de dos log normales"
   ]
  },
  {
   "cell_type": "code",
   "execution_count": null,
   "id": "00f71198-3294-4ebf-a8b6-21f3dced3911",
   "metadata": {},
   "outputs": [],
   "source": [
    "np.random.seed(SEED)\n",
    "mixtures = Mixtures(X_train, vars, n_components=2)\n",
    "mixtures.fit()\n",
    "mixtures.forecast(steps=H_STEPS, predict=['mean','weight'])"
   ]
  },
  {
   "cell_type": "code",
   "execution_count": null,
   "id": "b8b6b707-0a65-4c1f-bb86-a39722974846",
   "metadata": {},
   "outputs": [],
   "source": [
    "# COMENTARIO: Usar get_kl\n",
    "\n",
    "output_parametrico = np.exp(mixtures.new_mixtures[0].log_probability(grid_points))\n",
    "KL_parametrico = sum(rel_entr(output_parametrico[1:-1], np.exp(data_matrix[-1])[1:-1]))\n",
    "\n",
    "plt.figure(dpi=100, figsize=(10,8))\n",
    "\n",
    "plt.plot(grid_points, output_parametrico, 'darkorange', label='Estimado')\n",
    "plt.plot(grid_points, np.exp(data_matrix[-1]), 'steelblue', label='Target')\n",
    "plt.legend()\n",
    "plt.gca().set_ylim(bottom=0)\n",
    "plt.gca().set_xlim(left=0)\n",
    "plt.title('2022 - Paramétrico - KL {:.3f}'.format(KL_parametrico))\n",
    "\n",
    "plt.xlabel('launch_mass')\n",
    "plt.ylabel('density')\n",
    "\n",
    "plt.show()"
   ]
  },
  {
   "cell_type": "code",
   "execution_count": null,
   "id": "3c845188-82e2-413d-bf0c-3283d6417aca",
   "metadata": {},
   "outputs": [],
   "source": [
    "# Estimo los parámetros para el grupo de test\n",
    "\n",
    "mix_test = Mixtures(X_test, vars, n_components=2)\n",
    "mix_test.fit()"
   ]
  },
  {
   "cell_type": "code",
   "execution_count": null,
   "id": "013416fb-7aed-4d7e-8cc7-12c402789f0f",
   "metadata": {},
   "outputs": [],
   "source": [
    "gs = gridspec.GridSpec(2, 2)\n",
    "\n",
    "plt.figure(dpi=100, figsize=(10,10))\n",
    "\n",
    "ax = plt.subplot(gs[0, :]) # row 0, col 0\n",
    "\n",
    "plt.xlabel('Año')\n",
    "plt.title('Evolución de las medias')\n",
    "plt.plot(mixtures.medias)\n",
    "plt.plot(mixtures.pred_medias.m_0, 'steelblue', marker='x', label='Media 1 - Predicción')\n",
    "plt.plot(mixtures.pred_medias.m_1, 'darkorange', marker='x', label='Media 2 - Predicción')\n",
    "\n",
    "plt.plot(mix_test.medias.m_0, 'steelblue', marker='o', label='Media 1')\n",
    "plt.plot(mix_test.medias.m_1, 'darkorange', marker='o', label='Media 2')\n",
    "plt.tight_layout()\n",
    "plt.legend()\n",
    "\n",
    "\n",
    "ax = plt.subplot(gs[1, 0]) # row 0, col 1\n",
    "\n",
    "\n",
    "plt.xlabel('Año')\n",
    "plt.title('Evolución de la ponderación')\n",
    "plt.plot(mixtures.weights.w_0)\n",
    "\n",
    "plt.scatter(forecast_periods, mixtures.new_weights, marker='x', label='Ponderación 1 - Predicción')\n",
    "plt.plot(mix_test.weights.w_0, 'steelblue', marker='o', label='Ponderación 1')\n",
    "plt.tight_layout()\n",
    "plt.legend()\n",
    "\n",
    "\n",
    "ax = plt.subplot(gs[1, 1]) # row 1, span all column\n",
    "\n",
    "plt.xlabel('Año')\n",
    "plt.title('Evolución de los desvíos')\n",
    "plt.plot(mixtures.desvios)\n",
    "plt.scatter(forecast_periods, mixtures.fixed_desvios[0], marker='x', label='Desvío 1 - Predicción')\n",
    "plt.scatter(forecast_periods, mixtures.fixed_desvios[1], marker='x', label='Desvío 2 - Predicción')\n",
    "plt.plot(mix_test.desvios.d_0, 'steelblue', marker='o', label='Desvío 1')\n",
    "plt.plot(mix_test.desvios.d_1, 'darkorange', marker='o', label='Desvío 2')\n",
    "plt.tight_layout()\n",
    "plt.legend()\n",
    "\n",
    "plt.show()\n"
   ]
  },
  {
   "cell_type": "markdown",
   "id": "a01a7311-957d-4743-ae62-aad2e1b98398",
   "metadata": {},
   "source": [
    "## FPCA"
   ]
  },
  {
   "cell_type": "code",
   "execution_count": null,
   "id": "94bd2ae1-9890-4e28-a4f4-839ff5d0d0e3",
   "metadata": {},
   "outputs": [],
   "source": [
    "fpca_sats = Fpca(data_matrix, grid_points, n_basis=N_BASIS)\n",
    "\n",
    "plt.figure(figsize=(8, 6), dpi=80)\n",
    "\n",
    "for n, i in zip(np.linspace(0.1,0.9,len(time_periods)), range(len(time_periods))):\n",
    "  plt.plot(grid_points, np.exp(fd_basis[i](grid_points).reshape(-1)), color=viridis(n))\n",
    "\n",
    "plt.title('Representación en BSplines')\n",
    "plt.xlim((grid_points[0], grid_points[-1]))\n",
    "plt.gca().set_ylim(bottom=0)\n",
    "plt.show()\n",
    "\n",
    "\n",
    "for n, i in zip(np.linspace(0.1,0.9,T), TIME_PERIODS):\n",
    "  plt.plot(grid_points, np.exp(fpca_switch.fd[i](grid_points).reshape(-1)), color=VIRIDIS(n))\n",
    "plt.gca().set_ylim(bottom=0)\n",
    "plt.show()"
   ]
  }
 ],
 "metadata": {
  "kernelspec": {
   "display_name": "tesis",
   "language": "python",
   "name": "tesis"
  },
  "language_info": {
   "codemirror_mode": {
    "name": "ipython",
    "version": 3
   },
   "file_extension": ".py",
   "mimetype": "text/x-python",
   "name": "python",
   "nbconvert_exporter": "python",
   "pygments_lexer": "ipython3",
   "version": "3.8.10"
  }
 },
 "nbformat": 4,
 "nbformat_minor": 5
}
